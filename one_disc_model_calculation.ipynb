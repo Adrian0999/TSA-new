{
 "cells": [
  {
   "cell_type": "code",
   "execution_count": 14,
   "metadata": {},
   "outputs": [],
   "source": [
    "import numpy as np\n",
    "import pandas as pd\n",
    "import matplotlib.pyplot as plt\n",
    "import sympy as sp\n",
    "import math"
   ]
  },
  {
   "cell_type": "markdown",
   "metadata": {},
   "source": [
    "# TSA with one disc"
   ]
  },
  {
   "cell_type": "markdown",
   "metadata": {},
   "source": [
    "![](one_disc.png)"
   ]
  },
  {
   "cell_type": "markdown",
   "metadata": {},
   "source": [
    "![](./1.png)"
   ]
  },
  {
   "cell_type": "code",
   "execution_count": 15,
   "metadata": {},
   "outputs": [],
   "source": [
    "# Set physical constants assumming l1=l2 \n",
    "#assumption：l1=l2=14cm=0.14m A=1cm=0.01m r=5mm=0.005m Tmax=0.9cNm=0.009 N/m k=25N/m\n",
    "l1=l2=l3=0.14\n",
    "A=0.005\n",
    "r=0.0006\n",
    "Tmax=0.009\n",
    "k=25"
   ]
  },
  {
   "cell_type": "code",
   "execution_count": null,
   "metadata": {},
   "outputs": [],
   "source": [
    "# define delta_x fomula for one disc system\n",
    "def delta_11 (theta_1) :\n",
    "    delta_x1=sp.sqrt(l11**2-A**2)-sp.sqrt(l11**2-(A+r*theta_1*(math.pi))**2)\n",
    "    return(delta_x1)\n",
    "\n",
    "def delta_12 (theta_2) :\n",
    "    delta_x2=sp.sqrt(l12**2-A**2)-sp.sqrt(l12**2-(A+r*theta_2*(math.pi))**2)\n",
    "    return(delta_x2)"
   ]
  },
  {
   "cell_type": "markdown",
   "metadata": {},
   "source": [
    "Theoritical model"
   ]
  },
  {
   "cell_type": "markdown",
   "metadata": {},
   "source": [
    "![](1disc_ca.jpg)"
   ]
  },
  {
   "cell_type": "code",
   "execution_count": 17,
   "metadata": {},
   "outputs": [],
   "source": [
    "def delta_1 (theta_1) :\n",
    "    delta_x1=sp.sqrt(l1**2-A**2)-sp.sqrt(l1**2-(A+r*theta_1*(math.pi))**2)\n",
    "    return(delta_x1)\n",
    "\n",
    "def delta_2 (theta_2) :\n",
    "    delta_x2=sp.sqrt(l2**2-(2*A)**2)-sp.sqrt(l2**2-(2*A+r*theta_2*(math.pi))**2)\n",
    "    return(delta_x2)\n",
    "def delta_3 (theta_3) :\n",
    "    delta_x3=sp.sqrt(l3**2-A**2)-sp.sqrt(l3**2-(A+r*theta_3*(math.pi))**2)\n",
    "    return(delta_x3)\n"
   ]
  },
  {
   "cell_type": "code",
   "execution_count": null,
   "metadata": {},
   "outputs": [],
   "source": [
    "# define delta_x fomula for three discs\n",
    "def delta_111 (theta_1) :\n",
    "    delta_x1=sp.sqrt(l111**2-A**2)-sp.sqrt(l111**2-(A+r*theta_1*(math.pi))**2)\n",
    "    return(delta_x1)\n",
    "\n",
    "def delta_222 (theta_2) :\n",
    "    delta_x2=sp.sqrt(l222**2-(2*A)**2)-sp.sqrt(l222**2-(2*A+r*theta_2*(math.pi))**2)\n",
    "    return(delta_x2)\n",
    "\n",
    "def delta_333 (theta_3) :\n",
    "    delta_x3=sp.sqrt(l333**2-(2*A)**2)-sp.sqrt(l333**2-(2*A+r*theta_3*(math.pi))**2)\n",
    "    return(delta_x3)\n",
    "\n",
    "def delta_444 (theta_4) :\n",
    "    delta_x4=sp.sqrt(l444**2-A**2)-sp.sqrt(l444**2-(A+r*theta_4*(math.pi))**2)\n",
    "    return(delta_x4)"
   ]
  },
  {
   "cell_type": "code",
   "execution_count": 20,
   "metadata": {},
   "outputs": [],
   "source": [
    "#the relation between \n",
    "theta=sp.symbols(\"theta\",real=True)\n",
    "#delta_x_model=delta_1((l1/(l1+l2*l3))*theta)+delta_2((l2/(l1+l2+l3))*theta)+delta_3((l3/(l1+l2+l3))*theta)\n",
    "\n",
    "delta_x_one_disc=delta_11((l11/(l11+l12))*theta)+delta_12((l12/(l11+l12))*theta)\n",
    "\n",
    "delta_x_two_disc=delta_1((l1/(l1+l2*l3))*theta)+delta_2((l2/(l1+l2+l3))*theta)+delta_3((l3/(l1+l2+l3))*theta)\n",
    "\n",
    "delta_x_three_disc=delta_111((l111/(l111+l222+l333+l444))*theta)+delta_222((l222/(l111+l222+l333+l444))*theta)+delta_333((l333/(l111+l222+l333+l444))*theta)+delta_444((l444/(l111+l222+l333+l444))*theta)\n",
    "trans_model=delta_x_model/theta"
   ]
  },
  {
   "cell_type": "code",
   "execution_count": 21,
   "metadata": {},
   "outputs": [
    {
     "data": {
      "image/png": "[encoded data removed]",
      "text/plain": [
       "<Figure size 640x480 with 1 Axes>"
      ]
     },
     "metadata": {},
     "output_type": "display_data"
    },
    {
     "data": {
      "text/plain": [
       "<sympy.plotting.plot.Plot at 0x7f79dcf43c10>"
      ]
     },
     "execution_count": 21,
     "metadata": {},
     "output_type": "execute_result"
    }
   ],
   "source": [
    "#Visulization the transmission ratio calculated by model\n",
    "\n",
    "sp.plot(delta_x_model,(theta,0,100))\n",
    "\n"
   ]
  },
  {
   "cell_type": "markdown",
   "metadata": {},
   "source": [
    "experiment data"
   ]
  },
  {
   "cell_type": "code",
   "execution_count": 5,
   "metadata": {},
   "outputs": [
    {
     "ename": "NameError",
     "evalue": "name 'pd' is not defined",
     "output_type": "error",
     "traceback": [
      "\u001b[0;31m---------------------------------------------------------------------------\u001b[0m",
      "\u001b[0;31mNameError\u001b[0m                                 Traceback (most recent call last)",
      "\u001b[0;32m/tmp/ipykernel_5312/2305820159.py\u001b[0m in \u001b[0;36m<module>\u001b[0;34m\u001b[0m\n\u001b[1;32m      2\u001b[0m \u001b[0;31m# power 5v 200/255 pwm\u001b[0m\u001b[0;34m\u001b[0m\u001b[0;34m\u001b[0m\u001b[0m\n\u001b[1;32m      3\u001b[0m \u001b[0;34m\u001b[0m\u001b[0m\n\u001b[0;32m----> 4\u001b[0;31m \u001b[0mxls1\u001b[0m \u001b[0;34m=\u001b[0m \u001b[0mpd\u001b[0m\u001b[0;34m.\u001b[0m\u001b[0mExcelFile\u001b[0m\u001b[0;34m(\u001b[0m\u001b[0;34m'2strings.xlsx'\u001b[0m\u001b[0;34m)\u001b[0m\u001b[0;34m\u001b[0m\u001b[0;34m\u001b[0m\u001b[0m\n\u001b[0m\u001b[1;32m      5\u001b[0m \u001b[0mdf1\u001b[0m \u001b[0;34m=\u001b[0m \u001b[0mpd\u001b[0m\u001b[0;34m.\u001b[0m\u001b[0mread_excel\u001b[0m\u001b[0;34m(\u001b[0m\u001b[0mxls1\u001b[0m\u001b[0;34m,\u001b[0m \u001b[0;34m'one_disc'\u001b[0m\u001b[0;34m)\u001b[0m\u001b[0;34m\u001b[0m\u001b[0;34m\u001b[0m\u001b[0m\n",
      "\u001b[0;31mNameError\u001b[0m: name 'pd' is not defined"
     ]
    }
   ],
   "source": [
    "#upload date to Notebook\n",
    "# power 5v 200/255 pwm\n",
    "\n",
    "xls1 = pd.ExcelFile('2strings.xlsx')\n",
    "df1 = pd.read_excel(xls1, 'one_disc')\n"
   ]
  },
  {
   "cell_type": "code",
   "execution_count": 12,
   "metadata": {},
   "outputs": [
    {
     "ename": "NameError",
     "evalue": "name 'df1' is not defined",
     "output_type": "error",
     "traceback": [
      "\u001b[0;31m---------------------------------------------------------------------------\u001b[0m",
      "\u001b[0;31mNameError\u001b[0m                                 Traceback (most recent call last)",
      "\u001b[0;32m/tmp/ipykernel_5312/3778395807.py\u001b[0m in \u001b[0;36m<module>\u001b[0;34m\u001b[0m\n\u001b[1;32m      1\u001b[0m \u001b[0;31m# preparation for the dataframe\u001b[0m\u001b[0;34m\u001b[0m\u001b[0;34m\u001b[0m\u001b[0m\n\u001b[0;32m----> 2\u001b[0;31m \u001b[0mdf1\u001b[0m\u001b[0;34m.\u001b[0m\u001b[0mcolumns\u001b[0m\u001b[0;34m=\u001b[0m\u001b[0;34m[\u001b[0m\u001b[0;34m\"θ\"\u001b[0m\u001b[0;34m,\u001b[0m\u001b[0;34m\"delta_x\"\u001b[0m\u001b[0;34m]\u001b[0m\u001b[0;34m\u001b[0m\u001b[0;34m\u001b[0m\u001b[0m\n\u001b[0m\u001b[1;32m      3\u001b[0m \u001b[0mdf1\u001b[0m\u001b[0;34m[\u001b[0m\u001b[0;34m\"θ\"\u001b[0m\u001b[0;34m]\u001b[0m\u001b[0;34m=\u001b[0m\u001b[0mdf1\u001b[0m\u001b[0;34m[\u001b[0m\u001b[0;34m\"θ\"\u001b[0m\u001b[0;34m]\u001b[0m\u001b[0;34m*\u001b[0m\u001b[0;36m13\u001b[0m\u001b[0;34m/\u001b[0m\u001b[0;36m180\u001b[0m\u001b[0;34m\u001b[0m\u001b[0;34m\u001b[0m\u001b[0m\n\u001b[1;32m      4\u001b[0m \u001b[0mprint\u001b[0m\u001b[0;34m(\u001b[0m\u001b[0mdf1\u001b[0m\u001b[0;34m)\u001b[0m\u001b[0;34m\u001b[0m\u001b[0;34m\u001b[0m\u001b[0m\n",
      "\u001b[0;31mNameError\u001b[0m: name 'df1' is not defined"
     ]
    }
   ],
   "source": [
    "# preparation for the dataframe \n",
    "df1.columns=[\"θ\",\"delta_x\"]\n",
    "df1[\"θ\"]=df1[\"θ\"]*13/180\n",
    "print(df1)"
   ]
  },
  {
   "cell_type": "code",
   "execution_count": null,
   "metadata": {},
   "outputs": [],
   "source": []
  },
  {
   "cell_type": "code",
   "execution_count": null,
   "metadata": {},
   "outputs": [],
   "source": []
  },
  {
   "cell_type": "code",
   "execution_count": null,
   "metadata": {},
   "outputs": [],
   "source": []
  },
  {
   "cell_type": "code",
   "execution_count": null,
   "metadata": {},
   "outputs": [],
   "source": []
  }
 ],
 "metadata": {
  "kernelspec": {
   "display_name": "Python 3 (ipykernel)",
   "language": "python",
   "name": "python3"
  },
  "language_info": {
   "codemirror_mode": {
    "name": "ipython",
    "version": 3
   },
   "file_extension": ".py",
   "mimetype": "text/x-python",
   "name": "python",
   "nbconvert_exporter": "python",
   "pygments_lexer": "ipython3",
   "version": "3.9.13"
  }
 },
 "nbformat": 4,
 "nbformat_minor": 4
}
